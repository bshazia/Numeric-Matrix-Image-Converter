{
 "cells": [
  {
   "cell_type": "code",
   "execution_count": 1,
   "id": "b584b59b",
   "metadata": {},
   "outputs": [],
   "source": [
    "import re\n",
    "import pandas as pd\n",
    "from PIL import Image ,ImageDraw\n",
    "\n",
    "import numpy as np\n",
    "from random import randint as rint\n",
    "import random"
   ]
  },
  {
   "cell_type": "code",
   "execution_count": 2,
   "id": "51eeb988",
   "metadata": {},
   "outputs": [
    {
     "name": "stdout",
     "output_type": "stream",
     "text": [
      "r7654321\n"
     ]
    }
   ],
   "source": [
    "#Read in a student number and convert the number to a 14x14 matrix according to the following rules:\n",
    "user_input = input()"
   ]
  },
  {
   "cell_type": "code",
   "execution_count": 3,
   "id": "7fee3422",
   "metadata": {},
   "outputs": [
    {
     "name": "stdout",
     "output_type": "stream",
     "text": [
      "0  14  28  42  56  70  84  98  112  126  140  154  168  182  \n",
      "\n",
      "1  15  29  6  57  71  85  99  113  127  141  2  169  183  \n",
      "\n",
      "2  16  30  6  58  72  86  100  114  128  142  2  170  184  \n",
      "\n",
      "3  17  31  6  59  73  87  4  115  129  143  157  171  185  \n",
      "\n",
      "4  7  32  6  60  74  88  4  116  130  144  158  172  186  \n",
      "\n",
      "5  7  33  6  61  75  89  4  117  131  145  159  173  187  \n",
      "\n",
      "6  7  34  6  62  76  90  4  118  132  146  160  174  188  \n",
      "\n",
      "7  7  35  49  63  77  91  105  119  133  147  161  175  189  \n",
      "\n",
      "8  7  36  50  64  5  92  106  120  134  148  162  176  190  \n",
      "\n",
      "9  7  37  51  65  5  93  107  121  135  149  163  177  191  \n",
      "\n",
      "10  7  38  52  66  5  94  108  122  136  150  164  178  192  \n",
      "\n",
      "11  25  39  53  67  5  95  109  123  3  151  165  179  193  \n",
      "\n",
      "12  26  40  54  68  5  96  110  124  3  152  166  180  1  \n",
      "\n",
      "13  27  41  55  69  83  97  111  125  3  153  167  181  195  \n",
      "\n"
     ]
    }
   ],
   "source": [
    "#First, remove character 'r' from the student number\n",
    "dr = []\n",
    "digits = re.sub(\"\\D\",\"\",user_input)\n",
    "big_list =  list(range(196))\n",
    "x = 14\n",
    "list_of_lists = [big_list[i:i+x] for i in range(0, len(big_list), x)]\n",
    "index_diff = 0\n",
    "counter_list_even = 0\n",
    "counter_list = 0\n",
    "\n",
    "dig_check = digits[0]\n",
    "if int(dig_check) % 2 != 0: \n",
    "        for dig in digits:\n",
    "            counter_list = counter_list +1;\n",
    "            rows_list = list_of_lists[counter_list]\n",
    "            difference = 14 - int(dig);\n",
    "            random_number = random.randint(0,difference)\n",
    "            indexes = [0,1,3,5]\n",
    "            replacements = [0,0,0,0]\n",
    "            for ind in range(random_number, random_number + int(dig)):\n",
    "                rows_list[ind] = int(dig)\n",
    "            counter_list = counter_list +1;    \n",
    "else:\n",
    "    for dig in digits:\n",
    "        rows_list = list_of_lists[counter_list_even]\n",
    "        difference = 14 - int(dig);\n",
    "        random_number = random.randint(0,difference)\n",
    "        indexes = [0,1,3,5]\n",
    "        replacements = [0,0,0,0]\n",
    "        for ind in range(random_number, random_number + int(dig)):\n",
    "            rows_list[ind] = int(dig)        \n",
    "        counter_list_even = counter_list_even +2;\n",
    "new_matrix = [list(i) for i in zip(*list_of_lists)]\n",
    "index = 0\n",
    "while index != 14:\n",
    "    for t in new_matrix[index]:    \n",
    "        print(t,end='  ')\n",
    "    index += 1\n",
    "    print('\\n') "
   ]
  },
  {
   "cell_type": "code",
   "execution_count": 4,
   "id": "41822f71",
   "metadata": {},
   "outputs": [],
   "source": [
    "\n",
    "def interpolate(f_co, t_co, interval):\n",
    "    det_co =[(t - f) / interval for f , t in zip(f_co, t_co)]\n",
    "    for i in range(interval):\n",
    "        yield [round(f + det * i) for f, det in zip(f_co, det_co)]\n",
    "\n",
    "\n",
    "imgsize=(140,140)\n",
    "gradient = Image.new('RGBA', imgsize, color=0)\n",
    "draw = ImageDraw.Draw(gradient)\n",
    "\n",
    "\n"
   ]
  },
  {
   "cell_type": "code",
   "execution_count": 5,
   "id": "569ef503",
   "metadata": {},
   "outputs": [],
   "source": [
    "digits = digits[::-1]\n",
    "if int(digits[0]) == 1:\n",
    "    t_co = (255,69,0)\n",
    "elif int(digits[0]) == 0:\n",
    "    t_co = (255,255,0)  \n",
    "elif int(digits[0]) == 2:\n",
    "    t_co =(255,0,0)\n",
    "elif int(digits[0]) == 3:\n",
    "    t_co =(128,0,128)\n",
    "elif int(digits[0]) == 4:\n",
    "    t_co = (0,0,255)\n",
    "elif int(digits[0]) == 5:\n",
    "    t_co = (48,213,200)\n",
    "elif int(digits[0]) == 6:\n",
    "    t_co = (0,255,0)\n",
    "elif int(digits[0]) == 7:\n",
    "     t_co = (0,100,0)\n",
    "elif int(digits[0]) == 8:\n",
    "    t_co = (150,75,0)  \n",
    "elif int(digits[0]) == 9:\n",
    "    t_co = (105,105,105)"
   ]
  },
  {
   "cell_type": "code",
   "execution_count": 9,
   "id": "c03ecf65",
   "metadata": {},
   "outputs": [],
   "source": [
    "f_co = (0,0,0)\n",
    "for i, color in enumerate(interpolate(f_co, t_co, gradient.width * 1)):\n",
    "    draw.line([(i, 0), (i, gradient.height)], tuple(color), width=1)"
   ]
  },
  {
   "cell_type": "code",
   "execution_count": 10,
   "id": "d5124995",
   "metadata": {},
   "outputs": [
    {
     "data": {
      "image/png": "[encoded data removed]",
      "text/plain": [
       "<PIL.Image.Image image mode=RGBA size=140x140 at 0x7F8A189FADF0>"
      ]
     },
     "execution_count": 10,
     "metadata": {},
     "output_type": "execute_result"
    }
   ],
   "source": [
    "rgb_im = gradient.convert('RGB')\n",
    "rgb_im.save(user_input+'.jpg')\n",
    "gradient"
   ]
  }
 ],
 "metadata": {
  "kernelspec": {
   "display_name": "Python 3 (ipykernel)",
   "language": "python",
   "name": "python3"
  },
  "language_info": {
   "codemirror_mode": {
    "name": "ipython",
    "version": 3
   },
   "file_extension": ".py",
   "mimetype": "text/x-python",
   "name": "python",
   "nbconvert_exporter": "python",
   "pygments_lexer": "ipython3",
   "version": "3.9.7"
  }
 },
 "nbformat": 4,
 "nbformat_minor": 5
}
